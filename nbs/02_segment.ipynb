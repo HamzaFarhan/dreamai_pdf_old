{
 "cells": [
  {
   "attachments": {},
   "cell_type": "markdown",
   "metadata": {},
   "source": [
    "# Segment"
   ]
  },
  {
   "cell_type": "code",
   "execution_count": null,
   "metadata": {},
   "outputs": [],
   "source": [
    "#| default_exp segment"
   ]
  },
  {
   "cell_type": "code",
   "execution_count": null,
   "metadata": {},
   "outputs": [],
   "source": [
    "#| hide\n",
    "\n",
    "%matplotlib inline\n",
    "%load_ext autoreload\n",
    "%autoreload 2\n",
    "%reload_ext autoreload"
   ]
  },
  {
   "cell_type": "code",
   "execution_count": null,
   "metadata": {},
   "outputs": [],
   "source": [
    "#| export\n",
    "\n",
    "from dreamai_pdf.core import *\n",
    "from dreamai_pdf.parse import *\n",
    "from dreamai_pdf.imports import *\n"
   ]
  },
  {
   "cell_type": "code",
   "execution_count": null,
   "metadata": {},
   "outputs": [],
   "source": [
    "#| export\n",
    "\n",
    "def text_to_segments(text, labeling_model, tags=['education', 'work experience']):\n",
    "    segs = defaultdict(list)\n",
    "    for txt in text:\n",
    "        pred = tags[labeling_model(txt, tags)[0][0]]\n",
    "        segs[pred].append(txt)\n",
    "    return segs\n",
    "\n",
    "def segment_to_ners(text, tagger):\n",
    "    if is_list(text):\n",
    "        text = ' '.join(text)\n",
    "    s = Sentence(text)\n",
    "    tagger.predict(s)\n",
    "    return s\n",
    "\n",
    "def ners_to_dicts(s, search_tags=['ORG', 'DATE'], dict_keys=['COMPANY', 'DATE']):\n",
    "    tags_list = []\n",
    "    tags_dict = {}\n",
    "    for l in s.labels:\n",
    "        dp = l.data_point\n",
    "        tag = dp.tag\n",
    "        for s,k in zip(search_tags, dict_keys):\n",
    "            if tag == s:\n",
    "                if not tags_dict.get(k,None):\n",
    "                    tags_dict[k] = dp.text.strip()\n",
    "                else:\n",
    "                    tags_list.append(tags_dict)\n",
    "                    tags_dict = {k:dp.text.strip()}\n",
    "                \n",
    "    return tags_list\n",
    "\n",
    "def get_edu_dicts(edu, tagger):\n",
    "    edu = segment_to_ners(edu, tagger)\n",
    "    edu_list = ners_to_dicts(edu, search_tags=['ORG', 'DATE'], dict_keys=['INSTITUTE', 'DATE'])\n",
    "    edu_list = [d for d in edu_list if d.get('INSTITUTE', None) is not None]\n",
    "    return edu_list\n",
    "\n",
    "def get_job_dicts(job, tagger):\n",
    "    job = segment_to_ners(job, tagger)\n",
    "    job_dict = ners_to_dicts(job, search_tags=['ORG', 'DATE'], dict_keys=['COMPANY', 'DATE'])\n",
    "    job_dict = [d for d in job_dict if d.get('COMPANY', None) is not None]\n",
    "    return job_dict\n",
    "\n",
    "def get_contact_dict(text):\n",
    "    if is_list(text): text = ' '.join(text)\n",
    "    mail_regex = re.compile(r'[\\w.+-]+@[\\w-]+\\.[\\w.-]+')\n",
    "    phone_regex = re.compile(r'[\\d]{3}[\\s-]?[\\d]{3}[\\s-]?[\\d]{4}')\n",
    "    emails = re.findall(mail_regex, text.lower())\n",
    "    phones = re.findall(phone_regex, text.lower())\n",
    "    return {'EMAIL':emails, 'PHONE':phones}\n"
   ]
  },
  {
   "cell_type": "markdown",
   "metadata": {},
   "source": [
    "## Some Usage Examples"
   ]
  },
  {
   "cell_type": "code",
   "execution_count": null,
   "metadata": {},
   "outputs": [
    {
     "name": "stderr",
     "output_type": "stream",
     "text": [
      "Some weights of the model checkpoint at roberta-large-mnli were not used when initializing RobertaForSequenceClassification: ['roberta.pooler.dense.bias', 'roberta.pooler.dense.weight']\n",
      "- This IS expected if you are initializing RobertaForSequenceClassification from the checkpoint of a model trained on another task or with another architecture (e.g. initializing a BertForSequenceClassification model from a BertForPreTraining model).\n",
      "- This IS NOT expected if you are initializing RobertaForSequenceClassification from the checkpoint of a model that you expect to be exactly identical (initializing a BertForSequenceClassification model from a BertForSequenceClassification model).\n"
     ]
    },
    {
     "name": "stdout",
     "output_type": "stream",
     "text": [
      "2023-05-03 03:32:22,130 SequenceTagger predicts: Dictionary with 76 tags: <unk>, O, B-CARDINAL, E-CARDINAL, S-PERSON, S-CARDINAL, S-PRODUCT, B-PRODUCT, I-PRODUCT, E-PRODUCT, B-WORK_OF_ART, I-WORK_OF_ART, E-WORK_OF_ART, B-PERSON, E-PERSON, S-GPE, B-DATE, I-DATE, E-DATE, S-ORDINAL, S-LANGUAGE, I-PERSON, S-EVENT, S-DATE, B-QUANTITY, E-QUANTITY, S-TIME, B-TIME, I-TIME, E-TIME, B-GPE, E-GPE, S-ORG, I-GPE, S-NORP, B-FAC, I-FAC, E-FAC, B-NORP, E-NORP, S-PERCENT, B-ORG, E-ORG, B-LANGUAGE, E-LANGUAGE, I-CARDINAL, I-ORG, S-WORK_OF_ART, I-QUANTITY, B-MONEY\n"
     ]
    }
   ],
   "source": [
    "labeling_model = Labels(\"roberta-large-mnli\")\n",
    "tagger = Classifier.load('ner-ontonotes-large')\n",
    "model = load_cols_model('../model/best_model.pth')"
   ]
  },
  {
   "cell_type": "code",
   "execution_count": null,
   "metadata": {},
   "outputs": [
    {
     "name": "stderr",
     "output_type": "stream",
     "text": [
      "DEBUG: FC_WEIGHT didn't match\n",
      "DEBUG: FC_WEIGHT didn't match\n",
      "/home/hamza/anaconda3/envs/dreamai_pdf/lib/python3.11/site-packages/sklearn/cluster/_kmeans.py:870: FutureWarning: The default value of `n_init` will change from 10 to 'auto' in 1.4. Set the value of `n_init` explicitly to suppress the warning\n",
      "  warnings.warn(\n",
      "/home/hamza/anaconda3/envs/dreamai_pdf/lib/python3.11/site-packages/sklearn/cluster/_kmeans.py:870: FutureWarning: The default value of `n_init` will change from 10 to 'auto' in 1.4. Set the value of `n_init` explicitly to suppress the warning\n",
      "  warnings.warn(\n",
      "/home/hamza/anaconda3/envs/dreamai_pdf/lib/python3.11/site-packages/transformers/pipelines/base.py:1070: UserWarning: You seem to be using the pipelines sequentially on GPU. In order to maximize efficiency please use a dataset\n",
      "  warnings.warn(\n"
     ]
    }
   ],
   "source": [
    "file = '../pdfs/test1.pdf'\n",
    "pdf_text = pdf_to_text(file, model=model)\n",
    "segs = text_to_segments(pdf_text, labeling_model)\n",
    "job_dicts = get_job_dicts(segs['work experience'], tagger)\n",
    "edu_dicts = get_edu_dicts(segs['education'], tagger)"
   ]
  },
  {
   "cell_type": "code",
   "execution_count": null,
   "metadata": {},
   "outputs": [
    {
     "name": "stdout",
     "output_type": "stream",
     "text": [
      "defaultdict(<class 'list'>,\n",
      "            {'education': ['CLIENTS LIST – 1) CELEKT 2) RAMKY',\n",
      "                           '4) ROCKSTAR JEANS 5) MANJEERA 7) E- RICE 8) KAVURI '\n",
      "                           'HILLS',\n",
      "                           'CLIENTS LIST – 1) ADP 2) IIRM MBA – 2021 EDUCATION '\n",
      "                           'PRIYADARSHINI COLLEGE OF BUSINESSES',\n",
      "                           '80 DIGITAL TECHNOLOGY FOR DESIGNING SCHOOL OF '\n",
      "                           'PLANNING AND ARCHITECTURE',\n",
      "                           '71.6 INTERMEDIATE – 2015 NARAYAN JUNIOR COLLEGE '\n",
      "                           '91.6 SSC - 2013 BRILLIANT GRAMMAR HIGH SCHOOL',\n",
      "                           '8.7 INTERESTS Traveling   Sketching   DIY Arts   '\n",
      "                           'Listing Music   Dancing   LANGUAGES English   '\n",
      "                           'Telugu   Hindi  '],\n",
      "             'work experience': ['DIKONDAWAR DEEKSHA To enhance my '\n",
      "                                 'professional OBJECTIVE organization which '\n",
      "                                 'recognizes responsibilities and challenges.',\n",
      "                                 'SKILLS & ABILITIES Team Building   Problem '\n",
      "                                 'Solving  ',\n",
      "                                 'Best Communication Skill   Positive Attitude '\n",
      "                                 'towards every  ',\n",
      "                                 'Leadership Skill   Decision Making Skill   '\n",
      "                                 'CLIENT RELATIONSHIP MANAGER PROFESSIONAL MAD '\n",
      "                                 'WORKS INDIA ADVERTISING EXPERIENCE',\n",
      "                                 '4 March 2021 - Currently Working Build '\n",
      "                                 'relationships with key employees',\n",
      "                                 'Create plans to address clients’ profitable '\n",
      "                                 'processes.',\n",
      "                                 'Schedule regular meetings with work flow. '\n",
      "                                 'Act as point of contact for complaints '\n",
      "                                 'creative team for correcting the products.',\n",
      "                                 'Ensure both the company and competition to '\n",
      "                                 'find new ways to',\n",
      "                                 'Set services and revenue targets Collaborate '\n",
      "                                 'with internal teams',\n",
      "                                 'Following up monthly retainer payment '\n",
      "                                 'raising the invoice on monthly bases.',\n",
      "                                 'CLIENT SERVICING FLIPSIDE ADVERTISING PVT '\n",
      "                                 'LTD 2 June 2019 - 28 Feb 2021 Client '\n",
      "                                 'servicing person connect needs, from leading '\n",
      "                                 'a first meeting outlets for a campaign. They '\n",
      "                                 'maintain businesses oversee the agency’s '\n",
      "                                 'develop strategies for clients. accountable '\n",
      "                                 'for all aspects of account leader’s role '\n",
      "                                 'goes beyond servicing person is problem '\n",
      "                                 'solvers develop business goals for their',\n",
      "                                 'dikondawardeeksha@gmail.com 7793966551 '\n",
      "                                 'skills, capabilities and knowledge in an the '\n",
      "                                 'value of hard work and trusts me with',\n",
      "                                 'situation PVT LTD among customers. business '\n",
      "                                 'needs. Advise clients on creating',\n",
      "                                 'clients to ensure they are satisfied with '\n",
      "                                 'our',\n",
      "                                 'and escalate issues as appropriate. Help '\n",
      "                                 'direction of output for advertising services '\n",
      "                                 'or',\n",
      "                                 'clients adhere to contract terms. Study '\n",
      "                                 'retain clients.',\n",
      "                                 'and work diligently to meet them. to address '\n",
      "                                 'client needs.',\n",
      "                                 'and helping the finance team for ESTATE 3) '\n",
      "                                 'VAMSIRAM BUILDERS',\n",
      "                                 'BUILDERS 6) SUNSHINE HEALTH CARE',\n",
      "                                 \"an agency's creative efforts with \"\n",
      "                                 'advertisers’ on a new account to researching '\n",
      "                                 'media',\n",
      "                                 'relationships with executives of client '\n",
      "                                 'account team across all disciplines and',\n",
      "                                 'In short, the client services manager the '\n",
      "                                 'delivery of work to the client. But the',\n",
      "                                 'merely giving a client what he wants. Client',\n",
      "                                 'who analyze markets and help advertisers '\n",
      "                                 'goods and services.',\n",
      "                                 'MANAGEMENT AND PLANNING – 2019 - JNAFAU']})\n"
     ]
    }
   ],
   "source": [
    "pprint(segs)"
   ]
  },
  {
   "cell_type": "code",
   "execution_count": null,
   "metadata": {},
   "outputs": [
    {
     "name": "stdout",
     "output_type": "stream",
     "text": [
      "[{'COMPANY': 'PVT LTD', 'DATE': 'monthly'},\n",
      " {'COMPANY': 'PVT LTD', 'DATE': '2 June 2019 - 28 Feb 2021'},\n",
      " {'COMPANY': 'SUNSHINE HEALTH CARE', 'DATE': '2019'}]\n"
     ]
    }
   ],
   "source": [
    "pprint(job_dicts)"
   ]
  },
  {
   "cell_type": "code",
   "execution_count": null,
   "metadata": {},
   "outputs": [
    {
     "name": "stdout",
     "output_type": "stream",
     "text": [
      "[{'INSTITUTE': 'CELEKT'},\n",
      " {'INSTITUTE': 'RAMKY'},\n",
      " {'INSTITUTE': 'ROCKSTAR'},\n",
      " {'INSTITUTE': 'MANJEERA'},\n",
      " {'INSTITUTE': 'E- RICE'},\n",
      " {'INSTITUTE': 'KAVURI HILLS'},\n",
      " {'INSTITUTE': 'ADP'},\n",
      " {'INSTITUTE': 'IIRM'},\n",
      " {'INSTITUTE': 'PRIYADARSHINI COLLEGE OF BUSINESSES'},\n",
      " {'INSTITUTE': 'NARAYAN JUNIOR COLLEGE'}]\n"
     ]
    }
   ],
   "source": [
    "pprint(edu_dicts)"
   ]
  },
  {
   "cell_type": "code",
   "execution_count": null,
   "metadata": {},
   "outputs": [],
   "source": []
  },
  {
   "cell_type": "code",
   "execution_count": null,
   "metadata": {},
   "outputs": [],
   "source": [
    "#| hide\n",
    "import nbdev; nbdev.nbdev_export()"
   ]
  }
 ],
 "metadata": {
  "kernelspec": {
   "display_name": "python3",
   "language": "python",
   "name": "python3"
  }
 },
 "nbformat": 4,
 "nbformat_minor": 4
}
