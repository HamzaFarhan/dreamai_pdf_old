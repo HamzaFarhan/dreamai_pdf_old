{
 "cells": [
  {
   "attachments": {},
   "cell_type": "markdown",
   "metadata": {},
   "source": [
    "# Segment"
   ]
  },
  {
   "cell_type": "code",
   "execution_count": null,
   "metadata": {},
   "outputs": [],
   "source": [
    "#| default_exp segment"
   ]
  },
  {
   "cell_type": "code",
   "execution_count": null,
   "metadata": {},
   "outputs": [],
   "source": [
    "#| hide\n",
    "\n",
    "%matplotlib inline\n",
    "%load_ext autoreload\n",
    "%autoreload 2\n",
    "%reload_ext autoreload"
   ]
  },
  {
   "cell_type": "code",
   "execution_count": null,
   "metadata": {},
   "outputs": [
    {
     "name": "stderr",
     "output_type": "stream",
     "text": [
      "/home/hamza/anaconda3/envs/dreamai_pdf/lib/python3.11/site-packages/tqdm/auto.py:21: TqdmWarning: IProgress not found. Please update jupyter and ipywidgets. See https://ipywidgets.readthedocs.io/en/stable/user_install.html\n",
      "  from .autonotebook import tqdm as notebook_tqdm\n"
     ]
    }
   ],
   "source": [
    "#| export\n",
    "\n",
    "from dreamai_pdf.parse import *\n",
    "from dreamai_pdf.core import *\n",
    "from dreamai_pdf.imports import *"
   ]
  },
  {
   "cell_type": "code",
   "execution_count": null,
   "metadata": {},
   "outputs": [],
   "source": [
    "#| export\n",
    "\n",
    "def text_to_segments(text, labeling_model, tags=['education', 'work experience']):\n",
    "    segs = defaultdict(list)\n",
    "    for txt in text:\n",
    "        pred = tags[labeling_model(txt, tags)[0][0]]\n",
    "        segs[pred].append(txt)\n",
    "    return segs\n",
    "\n",
    "def segment_to_ners(text, tagger):\n",
    "    if is_list(text):\n",
    "        text = ' '.join(text)\n",
    "    s = Sentence(text)\n",
    "    tagger.predict(s)\n",
    "    return s\n",
    "\n",
    "def ners_to_dicts(s, search_tags=['ORG', 'DATE'], dict_keys=['COMPANY', 'DATE']):\n",
    "    tags_list = []\n",
    "    tags_dict = {}\n",
    "    for l in s.labels:\n",
    "        dp = l.data_point\n",
    "        tag = dp.tag\n",
    "        for s,k in zip(search_tags, dict_keys):\n",
    "            if tag == s:\n",
    "                if not tags_dict.get(k,None):\n",
    "                    tags_dict[k] = dp.text.strip()\n",
    "                else:\n",
    "                    tags_list.append(tags_dict)\n",
    "                    tags_dict = {k:dp.text.strip()}\n",
    "                \n",
    "    return tags_list\n",
    "\n",
    "def get_edu_dicts(edu, tagger):\n",
    "    edu = segment_to_ners(edu, tagger)\n",
    "    edu_list = ners_to_dicts(edu, search_tags=['ORG', 'DATE'], dict_keys=['INSTITUTE', 'DATE'])\n",
    "    edu_list = [d for d in edu_list if d.get('INSTITUTE', None) is not None]\n",
    "    return edu_list\n",
    "\n",
    "def get_job_dicts(job, tagger):\n",
    "    job = segment_to_ners(job, tagger)\n",
    "    job_dict = ners_to_dicts(job, search_tags=['ORG', 'DATE'], dict_keys=['COMPANY', 'DATE'])\n",
    "    job_dict = [d for d in job_dict if d.get('COMPANY', None) is not None]\n",
    "    return job_dict\n",
    "\n",
    "def get_contact_dict(text):\n",
    "    if is_list(text): text = ' '.join(text)\n",
    "    mail_regex = re.compile(r'[\\w.+-]+@[\\w-]+\\.[\\w.-]+')\n",
    "    phone_regex = re.compile(r'[\\d]{3}[\\s-]?[\\d]{3}[\\s-]?[\\d]{4}')\n",
    "    emails = re.findall(mail_regex, text.lower())\n",
    "    phones = re.findall(phone_regex, text.lower())\n",
    "    return {'EMAIL':emails, 'PHONE':phones}\n"
   ]
  },
  {
   "cell_type": "code",
   "execution_count": null,
   "metadata": {},
   "outputs": [],
   "source": [
    "#| hide\n",
    "import nbdev; nbdev.nbdev_export()"
   ]
  }
 ],
 "metadata": {
  "kernelspec": {
   "display_name": "python3",
   "language": "python",
   "name": "python3"
  }
 },
 "nbformat": 4,
 "nbformat_minor": 4
}
