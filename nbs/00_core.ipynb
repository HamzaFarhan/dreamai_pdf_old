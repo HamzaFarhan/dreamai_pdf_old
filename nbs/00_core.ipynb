{
 "cells": [
  {
   "attachments": {},
   "cell_type": "markdown",
   "metadata": {},
   "source": [
    "# Core"
   ]
  },
  {
   "cell_type": "code",
   "execution_count": null,
   "metadata": {},
   "outputs": [],
   "source": [
    "#| default_exp core"
   ]
  },
  {
   "cell_type": "code",
   "execution_count": null,
   "metadata": {},
   "outputs": [],
   "source": [
    "#| hide\n",
    "\n",
    "%matplotlib inline\n",
    "%load_ext autoreload\n",
    "%autoreload 2\n",
    "%reload_ext autoreload"
   ]
  },
  {
   "cell_type": "code",
   "execution_count": null,
   "metadata": {},
   "outputs": [
    {
     "name": "stderr",
     "output_type": "stream",
     "text": [
      "/home/hamza/anaconda3/envs/dreamai_pdf/lib/python3.11/site-packages/tqdm/auto.py:21: TqdmWarning: IProgress not found. Please update jupyter and ipywidgets. See https://ipywidgets.readthedocs.io/en/stable/user_install.html\n",
      "  from .autonotebook import tqdm as notebook_tqdm\n"
     ]
    }
   ],
   "source": [
    "#| export\n",
    "\n",
    "from dreamai_pdf.imports import *"
   ]
  },
  {
   "cell_type": "code",
   "execution_count": null,
   "metadata": {},
   "outputs": [],
   "source": [
    "#| export\n",
    "\n",
    "def pdf_img_to_np(img):\n",
    "    return np.array(img.annotated)\n",
    "\n",
    "def cid_to_char(cidx):\n",
    "    try:\n",
    "        return chr(int(re.findall(r'\\(cid\\:(\\d+)\\)',cidx)[0]) + 29)\n",
    "    except:\n",
    "        return cidx\n",
    "\n",
    "def combine_lines(txt):\n",
    "    avg_len = np.mean([len(w.split()) for w in txt])\n",
    "    txt2 = []\n",
    "    for i,w in enumerate(txt):\n",
    "        w = process_text(w)\n",
    "        if i==0:\n",
    "            txt2.append(w)\n",
    "        else:\n",
    "            if len(txt2[-1].split()) < avg_len:\n",
    "                txt2[-1]+=' '+w\n",
    "            else:\n",
    "                txt2.append(w)\n",
    "    return txt2\n",
    "\n",
    "def get_avg_gap(words, key0='top', key1='bottom'):\n",
    "    if key1 is None: key1 = key0\n",
    "    return np.mean([w[key0]-words[i-1][key1] for i,w in enumerate(words) if i>0])\n",
    "\n",
    "def get_max_gap(words, key0='top', key1='bottom'):\n",
    "    if key1 is None: key1 = key0\n",
    "    return np.max([w[key0]-words[i-1][key1] for i,w in enumerate(words) if i>0])\n",
    "\n",
    "def combine_splits(splits):\n",
    "    avg_len = np.mean([len(s) for s in splits])\n",
    "    splits2 = []\n",
    "    for i,s in enumerate(splits):\n",
    "        if i==0:\n",
    "            splits2.append(s)\n",
    "        else:\n",
    "            if len(splits2[-1]) < avg_len:\n",
    "                splits2[-1]+=s\n",
    "            else:\n",
    "                splits2.append(s)\n",
    "    return splits2\n",
    "\n",
    "def split_words(words, key0='top', key1='bottom', avg_gap=None, fill_empty=False):\n",
    "    if key1 is None: key1 = key0\n",
    "    if avg_gap is None:\n",
    "        avg_gap = np.mean([w[key0]-words[i-1][key1] for i,w in enumerate(words) if i>0])\n",
    "    splits = []\n",
    "    for i,w in enumerate(words):\n",
    "        if i==0:\n",
    "            splits.append([w])\n",
    "        else:\n",
    "            if w[key0]-words[i-1][key1] > avg_gap:\n",
    "                if fill_empty:\n",
    "                    splits.append(['*']*len(splits[-1]) + [w])\n",
    "                else:\n",
    "                    splits.append([w])\n",
    "            else:\n",
    "                splits[-1].append(w)\n",
    "    return splits\n",
    "\n",
    "def process_text(text):\n",
    "    text = cid_to_char(text)\n",
    "    text = re.sub(r\"\\uf0b7\", \" \", text)\n",
    "    text = re.sub(r\"\\(cid:\\d{0,3}\\)\", \" \", text)\n",
    "    text = re.sub(r'• ', \" \", text)\n",
    "    text = re.sub(r'● ', \" \", text)\n",
    "    return text"
   ]
  },
  {
   "cell_type": "code",
   "execution_count": null,
   "metadata": {},
   "outputs": [],
   "source": [
    "#| hide\n",
    "import nbdev; nbdev.nbdev_export()"
   ]
  }
 ],
 "metadata": {
  "kernelspec": {
   "display_name": "python3",
   "language": "python",
   "name": "python3"
  }
 },
 "nbformat": 4,
 "nbformat_minor": 4
}
