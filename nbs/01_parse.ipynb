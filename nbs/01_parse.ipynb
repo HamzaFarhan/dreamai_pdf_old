{
 "cells": [
  {
   "attachments": {},
   "cell_type": "markdown",
   "metadata": {},
   "source": [
    "# Parse"
   ]
  },
  {
   "cell_type": "code",
   "execution_count": null,
   "metadata": {},
   "outputs": [],
   "source": [
    "#| default_exp parse"
   ]
  },
  {
   "cell_type": "code",
   "execution_count": null,
   "metadata": {},
   "outputs": [],
   "source": [
    "#| hide\n",
    "\n",
    "%matplotlib inline\n",
    "%load_ext autoreload\n",
    "%autoreload 2\n",
    "%reload_ext autoreload"
   ]
  },
  {
   "cell_type": "code",
   "execution_count": null,
   "metadata": {},
   "outputs": [
    {
     "name": "stderr",
     "output_type": "stream",
     "text": [
      "/home/hamza/anaconda3/envs/dreamai_pdf/lib/python3.11/site-packages/tqdm/auto.py:21: TqdmWarning: IProgress not found. Please update jupyter and ipywidgets. See https://ipywidgets.readthedocs.io/en/stable/user_install.html\n",
      "  from .autonotebook import tqdm as notebook_tqdm\n"
     ]
    }
   ],
   "source": [
    "#| export\n",
    "\n",
    "from dreamai_pdf.core import *\n",
    "from dreamai_pdf.imports import *"
   ]
  },
  {
   "cell_type": "code",
   "execution_count": null,
   "metadata": {},
   "outputs": [],
   "source": [
    "#| export\n",
    "\n",
    "def col_clusters(data, data2=None, n_cols=3):\n",
    "    n_cols = int(n_cols)\n",
    "    kmeans = KMeans(n_clusters=n_cols, algorithm='elkan', random_state=42).fit(np.reshape(data,(-1,1)))\n",
    "    idx = np.argsort(kmeans.cluster_centers_.sum(axis=1)).tolist()\n",
    "    cols = defaultdict(list)\n",
    "    if data2 is None: data2 = data\n",
    "    for i,c in enumerate(kmeans.labels_):\n",
    "        cols[idx.index(c)].append(data2[i])\n",
    "    return cols\n",
    "\n",
    "class ColumnCounter(KElbowVisualizer):\n",
    "    def draw(self):\n",
    "        pass\n",
    "\n",
    "def get_n_cols(data, min_c=2, max_c=10, max_n_cols=3):\n",
    "    model = KMeans(algorithm='elkan', random_state=42)\n",
    "    visualizer = ColumnCounter(model, k=(min_c, max_c), metric='silhouette')\n",
    "    visualizer.fit(np.reshape(data,(-1,1)))\n",
    "    # print(np.reshape(data,(-1,1)))\n",
    "    if visualizer.elbow_value_ is None:\n",
    "        return max_n_cols\n",
    "    return min(visualizer.elbow_value_, max_n_cols)\n",
    "\n",
    "def pdf_to_cols(data_path, max_n_cols=3, cols_list=[2,1]):\n",
    "    pdfs = resolve_data_path(data_path)\n",
    "    cols_dict = {}\n",
    "    for file in pdfs:\n",
    "        if Path(file).suffix == '.pdf':\n",
    "            try:\n",
    "                with pdfplumber.open(file) as pdf:\n",
    "                    pdf_pages = pdf.pages\n",
    "                    cols_list = cols_list + [None]*(len(pdf_pages)-len(cols_list))\n",
    "                    pdf_cols = []\n",
    "                    for page, n_cols in zip(pdf_pages, cols_list):\n",
    "                        words = page.extract_words(x_tolerance=5)\n",
    "                        if len(words) == 0:\n",
    "                            # raise Exception(f'\\nCould not extract words from pdf: {str(file)}\\nMaybe try extracting tables?')\n",
    "                            print(f'\\nCould not extract words from pdf: {str(file)}. Maybe try extracting tables?')\n",
    "                            continue\n",
    "                        word_x = [w['x0'] for w in words]\n",
    "                        if n_cols is None:\n",
    "                            try:\n",
    "                                n_cols = get_n_cols(word_x, max_n_cols=max_n_cols)\n",
    "                            except:\n",
    "                                print(f'\\nCould not find ideal number of columns for pdf: {str(file)}. Setting to 1.')\n",
    "                                n_cols = 1\n",
    "                        # if n_cols == 0:\n",
    "                            # print(file)\n",
    "                        cols = col_clusters(word_x, words, n_cols=n_cols)\n",
    "                        cols = sort_dict({k:sorted(v, key=lambda x: x['top']) for k,v in cols.items()})\n",
    "                        for k,v in cols.items():\n",
    "                            paras = []\n",
    "                            avg_gap = np.mean([w['top']-v[i-1]['top'] for i,w in enumerate(v) if i>0])\n",
    "                            for i,w in enumerate(v):\n",
    "                                txt = w['text']\n",
    "                                if i==0:\n",
    "                                    paras.append(txt)\n",
    "                                else:\n",
    "                                    if w['top']-v[i-1]['bottom'] >= avg_gap:\n",
    "                                        paras.append(txt)\n",
    "                                    else:\n",
    "                                        paras[-1]+=' '+txt.strip()\n",
    "                            paras = combine_lines(paras)                \n",
    "                            cols[k] = paras\n",
    "                        pdf_cols.append(cols)\n",
    "                    cols = defaultdict(list)\n",
    "                    for c in pdf_cols:\n",
    "                        for k,v in c.items():\n",
    "                            cols[k]+=v\n",
    "                    cols = sort_dict(cols)\n",
    "                    cols_dict[str(file)] = cols\n",
    "            except:\n",
    "                continue\n",
    "    return cols_dict\n",
    "\n",
    "def pdf_cols_to_text(pdf_cols):\n",
    "    return flatten_list([dict_values(d) for d in dict_values(pdf_cols)])\n",
    "\n",
    "def pdf_to_text(data_path, max_n_cols=3, cols_list=[2,1]):\n",
    "    pdf_cols = pdf_to_cols(data_path, max_n_cols=max_n_cols, cols_list=cols_list)\n",
    "    return pdf_cols_to_text(pdf_cols)\n"
   ]
  },
  {
   "cell_type": "code",
   "execution_count": null,
   "metadata": {},
   "outputs": [],
   "source": [
    "#| hide\n",
    "import nbdev; nbdev.nbdev_export()"
   ]
  }
 ],
 "metadata": {
  "kernelspec": {
   "display_name": "python3",
   "language": "python",
   "name": "python3"
  }
 },
 "nbformat": 4,
 "nbformat_minor": 4
}
